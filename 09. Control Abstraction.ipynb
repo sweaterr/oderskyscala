{
 "cells": [
  {
   "cell_type": "code",
   "execution_count": 5,
   "metadata": {
    "collapsed": false
   },
   "outputs": [
    {
     "ename": "",
     "evalue": "",
     "output_type": "error",
     "traceback": [
      "Compilation Failed",
      "\u001b[31mMain.scala:59: FileMatcher is already defined as object FileMatcher",
      "  } ; object FileMatcher {",
      "             ^\u001b[0m"
     ]
    }
   ],
   "source": [
    "// # 9.1 Reducing code duplication  \n",
    "object FileMatcher {\n",
    "    private def filesHere = (new java.io.File(\".\")).listFiles\n",
    "  \n",
    "    def filesEnding(query: String) =\n",
    "      for (file <- filesHere; if file.getName.endsWith(query))\n",
    "        yield file\n",
    "      \n",
    "    def filesContaining(query: String) =\n",
    "        for (file <- filesHere; if file.getName.contains(query))\n",
    "            yield file\n",
    "  }"
   ]
  },
  {
   "cell_type": "code",
   "execution_count": 6,
   "metadata": {
    "collapsed": false
   },
   "outputs": [
    {
     "data": {
      "text/plain": [
       "defined \u001b[32mobject \u001b[36mFileMatcher\u001b[0m"
      ]
     },
     "metadata": {},
     "output_type": "display_data"
    }
   ],
   "source": [
    "object FileMatcher {\n",
    "      private def filesHere = (new java.io.File(\".\")).listFiles\n",
    "  \n",
    "      private def filesMatching(matcher: String => Boolean) =\n",
    "        for (file <- filesHere; if matcher(file.getName))\n",
    "          yield file\n",
    "  \n",
    "      def filesEnding(query: String) =\n",
    "        filesMatching(_.endsWith(query))\n",
    "  \n",
    "      def filesContaining(query: String) =\n",
    "        filesMatching(_.contains(query))\n",
    "  \n",
    "      def filesRegex(query: String) =\n",
    "        filesMatching(_.matches(query))\n",
    "    }"
   ]
  },
  {
   "cell_type": "code",
   "execution_count": 7,
   "metadata": {
    "collapsed": false
   },
   "outputs": [
    {
     "data": {
      "text/plain": [
       "defined \u001b[32mfunction \u001b[36mcontainsNeg\u001b[0m\n",
       "\u001b[36mres4_1\u001b[0m: Boolean = false\n",
       "\u001b[36mres4_2\u001b[0m: Boolean = true"
      ]
     },
     "metadata": {},
     "output_type": "display_data"
    }
   ],
   "source": [
    "// 9.2 Simplifying client code [link]\n",
    "def containsNeg(nums: List[Int]): Boolean = {\n",
    "    var exists = false\n",
    "    for (num <- nums)\n",
    "      if (num < 0)\n",
    "        exists = true\n",
    "    exists\n",
    "  }\n",
    "\n",
    "containsNeg(List(1, 2, 3, 4))\n",
    "containsNeg(List(1, 2, -3, 4))\n"
   ]
  },
  {
   "cell_type": "code",
   "execution_count": 8,
   "metadata": {
    "collapsed": false
   },
   "outputs": [
    {
     "data": {
      "text/plain": [
       "defined \u001b[32mfunction \u001b[36mcontainsNeg\u001b[0m\n",
       "\u001b[36mres5_1\u001b[0m: Boolean = false\n",
       "\u001b[36mres5_2\u001b[0m: Boolean = true"
      ]
     },
     "metadata": {},
     "output_type": "display_data"
    }
   ],
   "source": [
    "def containsNeg(nums: List[Int]) = nums.exists(_ < 0)\n",
    "containsNeg(Nil)\n",
    "containsNeg(List(0, -1, -2))\n"
   ]
  },
  {
   "cell_type": "code",
   "execution_count": 10,
   "metadata": {
    "collapsed": false
   },
   "outputs": [
    {
     "ename": "",
     "evalue": "",
     "output_type": "error",
     "traceback": [
      "Compilation Failed",
      "\u001b[31mMain.scala:68: method containsOdd is defined twice",
      "  conflicting symbols both originated in file 'Main.scala'",
      "  } ; def containsOdd(nums: List[Int]) = nums.exists(_ % 2 == 1)",
      "          ^\u001b[0m"
     ]
    }
   ],
   "source": [
    " def containsOdd(nums: List[Int]): Boolean = {\n",
    "    var exists = false\n",
    "    for (num <- nums)\n",
    "      if (num % 2 == 1)\n",
    "        exists = true\n",
    "    exists\n",
    "  }\n"
   ]
  },
  {
   "cell_type": "code",
   "execution_count": 11,
   "metadata": {
    "collapsed": false
   },
   "outputs": [
    {
     "data": {
      "text/plain": [
       "defined \u001b[32mfunction \u001b[36mcontainsOdd\u001b[0m"
      ]
     },
     "metadata": {},
     "output_type": "display_data"
    }
   ],
   "source": [
    "def containsOdd(nums: List[Int]) = nums.exists(_ % 2 == 1)"
   ]
  },
  {
   "cell_type": "code",
   "execution_count": 12,
   "metadata": {
    "collapsed": false
   },
   "outputs": [
    {
     "data": {
      "text/plain": [
       "defined \u001b[32mfunction \u001b[36mplainOldSum\u001b[0m\n",
       "\u001b[36mres8_1\u001b[0m: Int = \u001b[32m3\u001b[0m"
      ]
     },
     "metadata": {},
     "output_type": "display_data"
    }
   ],
   "source": [
    "// 9.3 Currying [link]\n",
    "def plainOldSum(x: Int, y: Int) = x + y  \n",
    "plainOldSum(1, 2)"
   ]
  },
  {
   "cell_type": "code",
   "execution_count": 13,
   "metadata": {
    "collapsed": false
   },
   "outputs": [
    {
     "data": {
      "text/plain": [
       "defined \u001b[32mfunction \u001b[36mcurriedSum\u001b[0m\n",
       "\u001b[36mres9_1\u001b[0m: Int = \u001b[32m3\u001b[0m"
      ]
     },
     "metadata": {},
     "output_type": "display_data"
    }
   ],
   "source": [
    " def curriedSum(x: Int)(y: Int) = x + y\n",
    "curriedSum(1)(2)"
   ]
  },
  {
   "cell_type": "code",
   "execution_count": 14,
   "metadata": {
    "collapsed": false
   },
   "outputs": [
    {
     "data": {
      "text/plain": [
       "defined \u001b[32mfunction \u001b[36mfirst\u001b[0m"
      ]
     },
     "metadata": {},
     "output_type": "display_data"
    }
   ],
   "source": [
    "def first(x: Int) = (y: Int) => x + y"
   ]
  },
  {
   "cell_type": "code",
   "execution_count": 15,
   "metadata": {
    "collapsed": false
   },
   "outputs": [
    {
     "data": {
      "text/plain": [
       "\u001b[36msecond\u001b[0m: Int => Int = <function1>"
      ]
     },
     "metadata": {},
     "output_type": "display_data"
    }
   ],
   "source": [
    "val second = first(1)"
   ]
  },
  {
   "cell_type": "code",
   "execution_count": 16,
   "metadata": {
    "collapsed": false
   },
   "outputs": [
    {
     "data": {
      "text/plain": [
       "\u001b[36mres12\u001b[0m: Int = \u001b[32m3\u001b[0m"
      ]
     },
     "metadata": {},
     "output_type": "display_data"
    }
   ],
   "source": [
    " second(2)"
   ]
  },
  {
   "cell_type": "code",
   "execution_count": 17,
   "metadata": {
    "collapsed": false
   },
   "outputs": [
    {
     "data": {
      "text/plain": [
       "\u001b[36monePlus\u001b[0m: Int => Int = <function1>"
      ]
     },
     "metadata": {},
     "output_type": "display_data"
    }
   ],
   "source": [
    "val onePlus = curriedSum(1)_"
   ]
  },
  {
   "cell_type": "code",
   "execution_count": 18,
   "metadata": {
    "collapsed": false
   },
   "outputs": [
    {
     "data": {
      "text/plain": [
       "\u001b[36mres14\u001b[0m: Int = \u001b[32m3\u001b[0m"
      ]
     },
     "metadata": {},
     "output_type": "display_data"
    }
   ],
   "source": [
    "onePlus(2)"
   ]
  },
  {
   "cell_type": "code",
   "execution_count": 19,
   "metadata": {
    "collapsed": false
   },
   "outputs": [
    {
     "data": {
      "text/plain": [
       "\u001b[36mtwoPlus\u001b[0m: Int => Int = <function1>"
      ]
     },
     "metadata": {},
     "output_type": "display_data"
    }
   ],
   "source": [
    "val twoPlus = curriedSum(2)_"
   ]
  },
  {
   "cell_type": "code",
   "execution_count": 20,
   "metadata": {
    "collapsed": false
   },
   "outputs": [
    {
     "data": {
      "text/plain": [
       "\u001b[36mres16\u001b[0m: Int = \u001b[32m4\u001b[0m"
      ]
     },
     "metadata": {},
     "output_type": "display_data"
    }
   ],
   "source": [
    "twoPlus(2)"
   ]
  },
  {
   "cell_type": "code",
   "execution_count": 21,
   "metadata": {
    "collapsed": false
   },
   "outputs": [
    {
     "data": {
      "text/plain": [
       "defined \u001b[32mfunction \u001b[36mtwice\u001b[0m"
      ]
     },
     "metadata": {},
     "output_type": "display_data"
    }
   ],
   "source": [
    "// 9.4 Writing new control structures [link]\n",
    "def twice(op: Double => Double, x: Double) = op(op(x))"
   ]
  },
  {
   "cell_type": "code",
   "execution_count": 22,
   "metadata": {
    "collapsed": false
   },
   "outputs": [
    {
     "data": {
      "text/plain": [
       "\u001b[36mres18\u001b[0m: Double = \u001b[32m7.0\u001b[0m"
      ]
     },
     "metadata": {},
     "output_type": "display_data"
    }
   ],
   "source": [
    "twice(_ + 1, 5)"
   ]
  },
  {
   "cell_type": "code",
   "execution_count": 25,
   "metadata": {
    "collapsed": false
   },
   "outputs": [
    {
     "data": {
      "text/plain": [
       "\u001b[32mimport \u001b[36mjava.io._\u001b[0m\n",
       "defined \u001b[32mfunction \u001b[36mwithPrintWriter\u001b[0m"
      ]
     },
     "metadata": {},
     "output_type": "display_data"
    }
   ],
   "source": [
    "import java.io._\n",
    "def withPrintWriter(file: File, op: PrintWriter => Unit) {\n",
    "    val writer = new PrintWriter(file)\n",
    "    try {\n",
    "      op(writer)\n",
    "    } finally {\n",
    "      writer.close()\n",
    "    }\n",
    "  }\n"
   ]
  },
  {
   "cell_type": "code",
   "execution_count": 27,
   "metadata": {
    "collapsed": false
   },
   "outputs": [
    {
     "data": {
      "text/plain": []
     },
     "metadata": {},
     "output_type": "display_data"
    }
   ],
   "source": [
    "  withPrintWriter(\n",
    "    new File(\"date.txt\"),\n",
    "    writer => writer.println(new java.util.Date)\n",
    "  )"
   ]
  },
  {
   "cell_type": "code",
   "execution_count": 28,
   "metadata": {
    "collapsed": false
   },
   "outputs": [
    {
     "data": {
      "text/plain": [
       "defined \u001b[32mfunction \u001b[36mwithPrintWriter\u001b[0m"
      ]
     },
     "metadata": {},
     "output_type": "display_data"
    }
   ],
   "source": [
    "def withPrintWriter(file: File)(op: PrintWriter => Unit) {\n",
    "  val writer = new PrintWriter(file)\n",
    "  try {\n",
    "    op(writer)\n",
    "  } finally {\n",
    "    writer.close()\n",
    "  }\n",
    "}"
   ]
  },
  {
   "cell_type": "code",
   "execution_count": 29,
   "metadata": {
    "collapsed": false
   },
   "outputs": [
    {
     "data": {
      "text/plain": [
       "\u001b[36mfile\u001b[0m: java.io.File = date.txt"
      ]
     },
     "metadata": {},
     "output_type": "display_data"
    }
   ],
   "source": [
    "val file = new File(\"date.txt\")\n",
    "withPrintWriter(file) {\n",
    "    writer => writer.println(new java.util.Date)\n",
    "}"
   ]
  },
  {
   "cell_type": "code",
   "execution_count": 32,
   "metadata": {
    "collapsed": false
   },
   "outputs": [
    {
     "data": {
      "text/plain": [
       "\u001b[32mimport \u001b[36msys.process._\u001b[0m\n",
       "\u001b[36mres26_1\u001b[0m: String = \u001b[32m\"\"\"\n",
       "Mon Sep 28 00:55:50 KST 2015\n",
       "\"\"\"\u001b[0m"
      ]
     },
     "metadata": {},
     "output_type": "display_data"
    }
   ],
   "source": [
    "import sys.process._\n",
    "\"cat date.txt\" !!"
   ]
  },
  {
   "cell_type": "code",
   "execution_count": 33,
   "metadata": {
    "collapsed": false
   },
   "outputs": [
    {
     "data": {
      "text/plain": [
       "\u001b[36massertionsEnabled\u001b[0m: Boolean = true\n",
       "defined \u001b[32mfunction \u001b[36mmyAssert\u001b[0m"
      ]
     },
     "metadata": {},
     "output_type": "display_data"
    }
   ],
   "source": [
    "// 9.5 By-name parameters [link]\n",
    "var assertionsEnabled = true\n",
    "\n",
    "def myAssert(predicate: () => Boolean) =\n",
    "if (assertionsEnabled && !predicate())\n",
    "  throw new AssertionError\n"
   ]
  },
  {
   "cell_type": "code",
   "execution_count": 36,
   "metadata": {
    "collapsed": false
   },
   "outputs": [
    {
     "data": {
      "text/plain": []
     },
     "metadata": {},
     "output_type": "display_data"
    }
   ],
   "source": [
    "myAssert(() => 5 > 3)"
   ]
  },
  {
   "cell_type": "code",
   "execution_count": 37,
   "metadata": {
    "collapsed": false
   },
   "outputs": [
    {
     "ename": "",
     "evalue": "",
     "output_type": "error",
     "traceback": [
      "Compilation Failed",
      "\u001b[31mMain.scala:238: type mismatch;",
      " found   : Boolean(true)",
      " required: () => Boolean",
      "myAssert(5 > 3)",
      "           ^\u001b[0m"
     ]
    }
   ],
   "source": [
    " myAssert(5 > 3) "
   ]
  },
  {
   "cell_type": "code",
   "execution_count": 39,
   "metadata": {
    "collapsed": false
   },
   "outputs": [
    {
     "data": {
      "text/plain": [
       "defined \u001b[32mfunction \u001b[36mbyNameAssert\u001b[0m"
      ]
     },
     "metadata": {},
     "output_type": "display_data"
    }
   ],
   "source": [
    "def byNameAssert(predicate: => Boolean) =\n",
    "  if (assertionsEnabled && !predicate)\n",
    "    throw new AssertionError"
   ]
  },
  {
   "cell_type": "code",
   "execution_count": 40,
   "metadata": {
    "collapsed": false
   },
   "outputs": [
    {
     "data": {
      "text/plain": []
     },
     "metadata": {},
     "output_type": "display_data"
    }
   ],
   "source": [
    "byNameAssert(5 > 3)"
   ]
  },
  {
   "cell_type": "code",
   "execution_count": 45,
   "metadata": {
    "collapsed": false
   },
   "outputs": [
    {
     "data": {
      "text/plain": [
       "defined \u001b[32mfunction \u001b[36mboolAssert\u001b[0m"
      ]
     },
     "metadata": {},
     "output_type": "display_data"
    }
   ],
   "source": [
    "// why not this\n",
    "def boolAssert(predicate: Boolean) =\n",
    "    if (assertionsEnabled && !predicate)\n",
    "      throw new AssertionError"
   ]
  },
  {
   "cell_type": "code",
   "execution_count": 43,
   "metadata": {
    "collapsed": false
   },
   "outputs": [
    {
     "data": {
      "text/plain": []
     },
     "metadata": {},
     "output_type": "display_data"
    }
   ],
   "source": [
    "boolAssert(5 > 3)"
   ]
  },
  {
   "cell_type": "code",
   "execution_count": 50,
   "metadata": {
    "collapsed": false
   },
   "outputs": [
    {
     "ename": "",
     "evalue": "",
     "output_type": "error",
     "traceback": [
      "java.lang.ArithmeticException: / by zero",
      "\tcmd42$$user$$anonfun$2.apply$mcV$sp(Main.scala:255)"
     ]
    }
   ],
   "source": [
    "var assertionsEnabled = false\n",
    "boolAssert(1 / 0 == 0)"
   ]
  },
  {
   "cell_type": "code",
   "execution_count": 51,
   "metadata": {
    "collapsed": false
   },
   "outputs": [
    {
     "data": {
      "text/plain": [
       "\u001b[36massertionsEnabled\u001b[0m: Boolean = false\n",
       "defined \u001b[32mfunction \u001b[36mbyNameAssert\u001b[0m"
      ]
     },
     "metadata": {},
     "output_type": "display_data"
    }
   ],
   "source": [
    "var assertionsEnabled = false\n",
    "def byNameAssert(predicate: => Boolean) =\n",
    "  if (assertionsEnabled && !predicate)\n",
    "    throw new AssertionError\n",
    "byNameAssert(1 / 0 == 0)"
   ]
  }
 ],
 "metadata": {
  "kernelspec": {
   "display_name": "Scala 2.10",
   "language": "scala210",
   "name": "scala210"
  },
  "language_info": {
   "codemirror_mode": "text/x-scala",
   "file_extension": "scala",
   "mimetype": "text/x-scala",
   "name": "scala210",
   "pygments_lexer": "scala",
   "version": "2.10.5"
  }
 },
 "nbformat": 4,
 "nbformat_minor": 0
}
