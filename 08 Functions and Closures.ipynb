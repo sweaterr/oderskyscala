{
 "cells": [
  {
   "cell_type": "code",
   "execution_count": 1,
   "metadata": {
    "collapsed": false
   },
   "outputs": [
    {
     "data": {
      "text/plain": [
       "\u001b[32mimport \u001b[36mscala.io.Source\u001b[0m\n",
       "defined \u001b[32mobject \u001b[36mLongLines\u001b[0m"
      ]
     },
     "metadata": {},
     "output_type": "display_data"
    }
   ],
   "source": [
    "    import scala.io.Source\n",
    "  \n",
    "    object LongLines {\n",
    "  \n",
    "      def processFile(filename: String, width: Int) {\n",
    "        val source = Source.fromFile(filename)\n",
    "        for (line <- source.getLines) \n",
    "          processLine(filename, width, line)\n",
    "      }\n",
    "  \n",
    "      private def processLine(filename: String,\n",
    "          width: Int, line: String) {\n",
    "  \n",
    "        if (line.length > width)\n",
    "          println(filename +\": \"+ line.trim)\n",
    "      }\n",
    "    }\n"
   ]
  },
  {
   "cell_type": "code",
   "execution_count": 3,
   "metadata": {
    "collapsed": false
   },
   "outputs": [
    {
     "data": {
      "text/plain": [
       "defined \u001b[32mobject \u001b[36mFindLongLines\u001b[0m"
      ]
     },
     "metadata": {},
     "output_type": "display_data"
    }
   ],
   "source": [
    "object FindLongLines { \n",
    "    def main(args: Array[String]) {\n",
    "        val width = args(0).toInt \n",
    "        for (arg <- args.drop(1)) \n",
    "            LongLines.processFile(arg, width) \n",
    "    } \n",
    "}"
   ]
  },
  {
   "cell_type": "code",
   "execution_count": 4,
   "metadata": {
    "collapsed": false
   },
   "outputs": [
    {
     "data": {
      "text/plain": [
       "defined \u001b[32mfunction \u001b[36mprocessFile\u001b[0m"
      ]
     },
     "metadata": {},
     "output_type": "display_data"
    }
   ],
   "source": [
    "// local functions\n",
    "def processFile(filename: String, width: Int) {\n",
    "    def processLine(filename: String, width: Int, line: String) {\n",
    "        if (line.length > width) print(filename +\": \"+ line) \n",
    "    }\n",
    "    val source = Source.fromFile(filename) \n",
    "    for (line <- source.getLines) { \n",
    "        processLine(filename, width, line) \n",
    "    } \n",
    "}"
   ]
  },
  {
   "cell_type": "code",
   "execution_count": 10,
   "metadata": {
    "collapsed": false
   },
   "outputs": [
    {
     "name": "stdout",
     "output_type": "stream",
     "text": [
      "We\n",
      "are\n",
      "here!\n"
     ]
    },
    {
     "data": {
      "text/plain": [
       "\u001b[36mincrease\u001b[0m: Int => Int = <function1>\n",
       "\u001b[36mres9_1\u001b[0m: Int = \u001b[32m11\u001b[0m\n",
       "\u001b[36mres9_3\u001b[0m: Int = \u001b[32m10009\u001b[0m\n",
       "\u001b[36mres9_5\u001b[0m: Int = \u001b[32m11\u001b[0m"
      ]
     },
     "metadata": {},
     "output_type": "display_data"
    }
   ],
   "source": [
    "// 8.3 first class functions\n",
    "var increase = (x: Int) => x + 1\n",
    "increase(10)\n",
    "increase = (x: Int) => x + 9999\n",
    "increase(10)\n",
    "\n",
    "increase = (x: Int) => { \n",
    "    println(\"We\") \n",
    "    println(\"are\") \n",
    "    println(\"here!\") \n",
    "    x + 1 \n",
    "}\n",
    "\n",
    "increase(10)"
   ]
  },
  {
   "cell_type": "code",
   "execution_count": 11,
   "metadata": {
    "collapsed": false
   },
   "outputs": [
    {
     "name": "stdout",
     "output_type": "stream",
     "text": [
      "-11\n",
      "-10\n",
      "-5\n",
      "0\n",
      "5\n",
      "10\n"
     ]
    },
    {
     "data": {
      "text/plain": [
       "\u001b[36msomeNumbers\u001b[0m: List[Int] = \u001b[33mList\u001b[0m(\u001b[32m-11\u001b[0m, \u001b[32m-10\u001b[0m, \u001b[32m-5\u001b[0m, \u001b[32m0\u001b[0m, \u001b[32m5\u001b[0m, \u001b[32m10\u001b[0m)\n",
       "\u001b[36mres10_2\u001b[0m: List[Int] = \u001b[33mList\u001b[0m(\u001b[32m5\u001b[0m, \u001b[32m10\u001b[0m)"
      ]
     },
     "metadata": {},
     "output_type": "display_data"
    }
   ],
   "source": [
    "val someNumbers = List(-11, -10, -5, 0, 5, 10)\n",
    "someNumbers.foreach((x: Int) => println(x))\n",
    "someNumbers.filter((x: Int) => x > 0)"
   ]
  },
  {
   "cell_type": "code",
   "execution_count": 12,
   "metadata": {
    "collapsed": false
   },
   "outputs": [
    {
     "data": {
      "text/plain": [
       "defined \u001b[32mfunction \u001b[36msum\u001b[0m\n",
       "\u001b[36mres11_1\u001b[0m: Int = \u001b[32m6\u001b[0m"
      ]
     },
     "metadata": {},
     "output_type": "display_data"
    }
   ],
   "source": [
    "//8.6 Partially applied functions \n",
    "def sum(a: Int, b: Int, c: Int) = a + b + c\n",
    "sum(1, 2, 3)"
   ]
  },
  {
   "cell_type": "code",
   "execution_count": 13,
   "metadata": {
    "collapsed": false
   },
   "outputs": [
    {
     "data": {
      "text/plain": [
       "\u001b[36ma\u001b[0m: (Int, Int, Int) => Int = <function3>\n",
       "\u001b[36mres12_1\u001b[0m: Int = \u001b[32m6\u001b[0m\n",
       "\u001b[36mres12_2\u001b[0m: Int = \u001b[32m6\u001b[0m"
      ]
     },
     "metadata": {},
     "output_type": "display_data"
    }
   ],
   "source": [
    "val a = sum _\n",
    "a(1, 2, 3)\n",
    "a.apply(1, 2, 3)"
   ]
  },
  {
   "cell_type": "code",
   "execution_count": 15,
   "metadata": {
    "collapsed": false
   },
   "outputs": [
    {
     "data": {
      "text/plain": [
       "\u001b[36mb\u001b[0m: Int => Int = <function1>\n",
       "\u001b[36mres14_1\u001b[0m: Int = \u001b[32m6\u001b[0m\n",
       "\u001b[36mres14_2\u001b[0m: Int = \u001b[32m9\u001b[0m"
      ]
     },
     "metadata": {},
     "output_type": "display_data"
    }
   ],
   "source": [
    "val b = sum(1, _: Int, 3)\n",
    "b(2)\n",
    "b(5)"
   ]
  },
  {
   "cell_type": "code",
   "execution_count": 17,
   "metadata": {
    "collapsed": false
   },
   "outputs": [
    {
     "data": {
      "text/plain": [
       "\u001b[36msomeNumbers\u001b[0m: List[Int] = \u001b[33mList\u001b[0m(\u001b[32m-11\u001b[0m, \u001b[32m-10\u001b[0m, \u001b[32m-5\u001b[0m, \u001b[32m0\u001b[0m, \u001b[32m5\u001b[0m, \u001b[32m10\u001b[0m)\n",
       "\u001b[36msum\u001b[0m: Int = \u001b[32m-11\u001b[0m\n",
       "\u001b[36mres16_3\u001b[0m: Int = \u001b[32m-11\u001b[0m"
      ]
     },
     "metadata": {},
     "output_type": "display_data"
    }
   ],
   "source": [
    "// 8.7 Closures\n",
    "val someNumbers = List(-11, -10, -5, 0, 5, 10)\n",
    "var sum = 0\n",
    "someNumbers.foreach(sum += _)\n",
    "sum"
   ]
  },
  {
   "cell_type": "code",
   "execution_count": 18,
   "metadata": {
    "collapsed": false
   },
   "outputs": [
    {
     "data": {
      "text/plain": [
       "defined \u001b[32mfunction \u001b[36mmakeIncreaser\u001b[0m"
      ]
     },
     "metadata": {},
     "output_type": "display_data"
    }
   ],
   "source": [
    "def makeIncreaser(more: Int) = (x: Int) => x + more"
   ]
  },
  {
   "cell_type": "code",
   "execution_count": 19,
   "metadata": {
    "collapsed": false
   },
   "outputs": [
    {
     "data": {
      "text/plain": [
       "\u001b[36minc1\u001b[0m: Int => Int = <function1>"
      ]
     },
     "metadata": {},
     "output_type": "display_data"
    }
   ],
   "source": [
    "val inc1 = makeIncreaser(1)"
   ]
  },
  {
   "cell_type": "code",
   "execution_count": 20,
   "metadata": {
    "collapsed": false
   },
   "outputs": [
    {
     "data": {
      "text/plain": [
       "\u001b[36minc9999\u001b[0m: Int => Int = <function1>"
      ]
     },
     "metadata": {},
     "output_type": "display_data"
    }
   ],
   "source": [
    "val inc9999 = makeIncreaser(9999)"
   ]
  },
  {
   "cell_type": "code",
   "execution_count": 21,
   "metadata": {
    "collapsed": false
   },
   "outputs": [
    {
     "data": {
      "text/plain": [
       "\u001b[36mres20\u001b[0m: Int = \u001b[32m11\u001b[0m"
      ]
     },
     "metadata": {},
     "output_type": "display_data"
    }
   ],
   "source": [
    "inc1(10)"
   ]
  },
  {
   "cell_type": "code",
   "execution_count": 22,
   "metadata": {
    "collapsed": false
   },
   "outputs": [
    {
     "data": {
      "text/plain": [
       "\u001b[36mres21\u001b[0m: Int = \u001b[32m10009\u001b[0m"
      ]
     },
     "metadata": {},
     "output_type": "display_data"
    }
   ],
   "source": [
    "inc9999(10)"
   ]
  },
  {
   "cell_type": "code",
   "execution_count": 23,
   "metadata": {
    "collapsed": false
   },
   "outputs": [
    {
     "data": {
      "text/plain": [
       "defined \u001b[32mfunction \u001b[36mecho\u001b[0m"
      ]
     },
     "metadata": {},
     "output_type": "display_data"
    }
   ],
   "source": [
    "// 8.8 Repeated parameters\n",
    "def echo(args: String*) =\n",
    "    for (arg <- args) println(arg)"
   ]
  },
  {
   "cell_type": "code",
   "execution_count": 26,
   "metadata": {
    "collapsed": false
   },
   "outputs": [
    {
     "name": "stdout",
     "output_type": "stream",
     "text": [
      "one\n",
      "hello\n",
      "world!\n"
     ]
    },
    {
     "data": {
      "text/plain": []
     },
     "metadata": {},
     "output_type": "display_data"
    }
   ],
   "source": [
    "echo(\"one\")\n",
    "echo(\"hello\", \"world!\")"
   ]
  },
  {
   "cell_type": "code",
   "execution_count": 30,
   "metadata": {
    "collapsed": false
   },
   "outputs": [
    {
     "data": {
      "text/plain": [
       "\u001b[36marr\u001b[0m: scala.Array[java.lang.String] = \u001b[33mArray\u001b[0m(\u001b[32m\"What's\"\u001b[0m, \u001b[32m\"up\"\u001b[0m, \u001b[32m\"doc?\"\u001b[0m)"
      ]
     },
     "metadata": {},
     "output_type": "display_data"
    }
   ],
   "source": [
    "val arr = Array(\"What's\", \"up\", \"doc?\")"
   ]
  },
  {
   "cell_type": "code",
   "execution_count": 29,
   "metadata": {
    "collapsed": false
   },
   "outputs": [
    {
     "ename": "",
     "evalue": "",
     "output_type": "error",
     "traceback": [
      "Compilation Failed",
      "\u001b[31mMain.scala:136: not found: value arr",
      "echo(arr)",
      "     ^\u001b[0m"
     ]
    }
   ],
   "source": [
    "echo(arr)"
   ]
  },
  {
   "cell_type": "code",
   "execution_count": 31,
   "metadata": {
    "collapsed": false
   },
   "outputs": [
    {
     "name": "stdout",
     "output_type": "stream",
     "text": [
      "What's\n",
      "up\n",
      "doc?\n"
     ]
    },
    {
     "data": {
      "text/plain": []
     },
     "metadata": {},
     "output_type": "display_data"
    }
   ],
   "source": [
    "echo(arr: _*)"
   ]
  },
  {
   "cell_type": "code",
   "execution_count": 39,
   "metadata": {
    "collapsed": false
   },
   "outputs": [
    {
     "data": {
      "text/plain": [
       "defined \u001b[32mfunction \u001b[36mboom\u001b[0m"
      ]
     },
     "metadata": {},
     "output_type": "display_data"
    }
   ],
   "source": [
    "//8.9 Tail recursion\n",
    "def boom(x: Int): Int = \n",
    "    if (x == 0) throw new Exception(\"boom!\") \n",
    "    else boom(x - 1) +1"
   ]
  },
  {
   "cell_type": "code",
   "execution_count": 44,
   "metadata": {
    "collapsed": false
   },
   "outputs": [
    {
     "ename": "",
     "evalue": "",
     "output_type": "error",
     "traceback": [
      "java.lang.Exception: boom!",
      "\tcmd34$$user.boom(Main.scala:142)",
      "\tcmd34$$user.boom(Main.scala:143)",
      "\tcmd34$$user.boom(Main.scala:143)",
      "\tcmd34$$user.boom(Main.scala:143)",
      "\tcmd34$$user.boom(Main.scala:143)",
      "\tcmd34$$user.boom(Main.scala:143)",
      "\tcmd34$$user.boom(Main.scala:143)",
      "\tcmd34$$user.boom(Main.scala:143)",
      "\tcmd34$$user.boom(Main.scala:143)",
      "\tcmd34$$user.boom(Main.scala:143)",
      "\tcmd34$$user.boom(Main.scala:143)",
      "\tcmd39$$user$$anonfun$1.apply$mcI$sp(Main.scala:144)"
     ]
    }
   ],
   "source": [
    "boom(10)"
   ]
  },
  {
   "cell_type": "code",
   "execution_count": 50,
   "metadata": {
    "collapsed": false
   },
   "outputs": [
    {
     "data": {
      "text/plain": [
       "defined \u001b[32mfunction \u001b[36mbang\u001b[0m"
      ]
     },
     "metadata": {},
     "output_type": "display_data"
    }
   ],
   "source": [
    "def bang(x: Int): Int = \n",
    "    if (x == 0) throw new Exception(\"bang!\") \n",
    "    else bang(x - 1)"
   ]
  },
  {
   "cell_type": "code",
   "execution_count": 46,
   "metadata": {
    "collapsed": false
   },
   "outputs": [
    {
     "ename": "",
     "evalue": "",
     "output_type": "error",
     "traceback": [
      "java.lang.Exception: bang!",
      "\tcmd40$$user.bang(Main.scala:144)",
      "\tcmd40$$user.bang(Main.scala:145)",
      "\tcmd40$$user.bang(Main.scala:145)",
      "\tcmd40$$user.bang(Main.scala:145)",
      "\tcmd40$$user.bang(Main.scala:145)",
      "\tcmd40$$user.bang(Main.scala:145)",
      "\tcmd41$$user$$anonfun$1.apply$mcI$sp(Main.scala:144)"
     ]
    }
   ],
   "source": [
    "bang(5)"
   ]
  },
  {
   "cell_type": "code",
   "execution_count": null,
   "metadata": {
    "collapsed": true
   },
   "outputs": [],
   "source": []
  }
 ],
 "metadata": {
  "kernelspec": {
   "display_name": "Scala 2.10",
   "language": "scala210",
   "name": "scala210"
  },
  "language_info": {
   "codemirror_mode": "text/x-scala",
   "file_extension": "scala",
   "mimetype": "text/x-scala",
   "name": "scala210",
   "pygments_lexer": "scala",
   "version": "2.10.5"
  }
 },
 "nbformat": 4,
 "nbformat_minor": 0
}
