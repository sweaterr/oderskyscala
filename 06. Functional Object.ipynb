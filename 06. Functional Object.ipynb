{
 "cells": [
  {
   "cell_type": "code",
   "execution_count": 1,
   "metadata": {
    "collapsed": false
   },
   "outputs": [
    {
     "data": {
      "text/plain": [
       "defined \u001b[32mclass \u001b[36mRational\u001b[0m"
      ]
     },
     "metadata": {},
     "output_type": "display_data"
    }
   ],
   "source": [
    "class Rational(n: Int, d: Int) { // This won't compile \n",
    "    require(d != 0) \n",
    "    val numer: Int = n \n",
    "    val denom: Int = d\n",
    "    override def toString = numer +\"/\"+ denom\n",
    "    def add(that: Rational): Rational = \n",
    "        new Rational(numer * that.denom + that.numer * denom, denom * that.denom) \n",
    "}"
   ]
  },
  {
   "cell_type": "code",
   "execution_count": 2,
   "metadata": {
    "collapsed": false
   },
   "outputs": [
    {
     "data": {
      "text/plain": [
       "\u001b[36moneHalf\u001b[0m: cmd1.INSTANCE.$ref$cmd0.Rational = 1/2\n",
       "\u001b[36mtwoThirds\u001b[0m: cmd1.INSTANCE.$ref$cmd0.Rational = 2/3\n",
       "\u001b[36mres1_2\u001b[0m: cmd1.INSTANCE.$ref$cmd0.Rational = 7/6\n",
       "\u001b[36mr\u001b[0m: cmd1.INSTANCE.$ref$cmd0.Rational = 1/2\n",
       "\u001b[36mres1_4\u001b[0m: Int = \u001b[32m1\u001b[0m\n",
       "\u001b[36mres1_5\u001b[0m: Int = \u001b[32m2\u001b[0m"
      ]
     },
     "metadata": {},
     "output_type": "display_data"
    }
   ],
   "source": [
    "val oneHalf = new Rational(1, 2)\n",
    "val twoThirds = new Rational(2, 3)\n",
    "oneHalf add twoThirds\n",
    "\n",
    "val r = new Rational(1, 2)\n",
    "\n",
    "r.numer\n",
    "\n",
    "r.denom\n"
   ]
  },
  {
   "cell_type": "code",
   "execution_count": 3,
   "metadata": {
    "collapsed": false
   },
   "outputs": [
    {
     "data": {
      "text/plain": [
       "defined \u001b[32mclass \u001b[36mRational\u001b[0m"
      ]
     },
     "metadata": {},
     "output_type": "display_data"
    }
   ],
   "source": [
    "class Rational(n: Int, d: Int) {\n",
    "    require(d != 0)\n",
    "    val numer: Int = n \n",
    "    val denom: Int = d\n",
    "    def this(n: Int) = this(n, 1) // auxiliary constructor\n",
    "    override def toString = numer +\"/\"+ denom\n",
    "    def add(that: Rational): Rational = \n",
    "        new Rational( \n",
    "            numer * that.denom + that.numer * denom, \n",
    "            denom * that.denom \n",
    "        )\n",
    "}"
   ]
  },
  {
   "cell_type": "code",
   "execution_count": 4,
   "metadata": {
    "collapsed": false
   },
   "outputs": [
    {
     "data": {
      "text/plain": [
       "\u001b[36my\u001b[0m: cmd3.INSTANCE.$ref$cmd2.Rational = 3/1"
      ]
     },
     "metadata": {},
     "output_type": "display_data"
    }
   ],
   "source": [
    "val y = new Rational(3)"
   ]
  },
  {
   "cell_type": "code",
   "execution_count": 5,
   "metadata": {
    "collapsed": false
   },
   "outputs": [
    {
     "data": {
      "text/plain": [
       "\u001b[36mres4\u001b[0m: cmd4.INSTANCE.$ref$cmd2.Rational = 66/42"
      ]
     },
     "metadata": {},
     "output_type": "display_data"
    }
   ],
   "source": [
    "new Rational(66, 42)"
   ]
  },
  {
   "cell_type": "code",
   "execution_count": 6,
   "metadata": {
    "collapsed": false
   },
   "outputs": [
    {
     "data": {
      "text/plain": [
       "defined \u001b[32mclass \u001b[36mRational\u001b[0m"
      ]
     },
     "metadata": {},
     "output_type": "display_data"
    }
   ],
   "source": [
    "class Rational(n: Int, d: Int) {\n",
    "    require(d != 0)\n",
    "    private val g = gcd(n.abs, d.abs) \n",
    "    val numer = n / g \n",
    "    val denom = d / g\n",
    "    \n",
    "    def this(n: Int) = this(n, 1)\n",
    "\n",
    "    def add(that: Rational): Rational = \n",
    "        new Rational( \n",
    "            numer * that.denom + that.numer * denom, \n",
    "            denom * that.denom \n",
    "        )\n",
    "    \n",
    "    override def toString = numer +\"/\"+ denom\n",
    "\n",
    "    private def gcd(a: Int, b: Int): Int = \n",
    "        if (b == 0) a else gcd(b, a % b) \n",
    "    }"
   ]
  },
  {
   "cell_type": "code",
   "execution_count": 7,
   "metadata": {
    "collapsed": false
   },
   "outputs": [
    {
     "data": {
      "text/plain": [
       "\u001b[36mres6\u001b[0m: cmd6.INSTANCE.$ref$cmd5.Rational = 11/7"
      ]
     },
     "metadata": {},
     "output_type": "display_data"
    }
   ],
   "source": [
    "new Rational(66,42)"
   ]
  },
  {
   "cell_type": "code",
   "execution_count": 1,
   "metadata": {
    "collapsed": false
   },
   "outputs": [
    {
     "data": {
      "text/plain": [
       "defined \u001b[32mclass \u001b[36mRational\u001b[0m"
      ]
     },
     "metadata": {},
     "output_type": "display_data"
    }
   ],
   "source": [
    "class Rational(n: Int, d: Int) {\n",
    "    require(d != 0)\n",
    "    \n",
    "    private val g = gcd(n.abs, d.abs) \n",
    "    \n",
    "    val numer = n / g \n",
    "    val denom = d / g\n",
    "    \n",
    "    def this(n: Int) = this(n, 1)\n",
    "    \n",
    "    def + (that: Rational): Rational = \n",
    "        new Rational( \n",
    "            numer * that.denom + that.numer * denom, \n",
    "            denom * that.denom \n",
    "        )\n",
    "    \n",
    "    def * (that: Rational): Rational = \n",
    "        new Rational(\n",
    "            numer * that.numer, \n",
    "            denom * that.denom\n",
    "        )\n",
    "    \n",
    "    override def toString = numer +\"/\"+ denom\n",
    "    \n",
    "    private def gcd(a: Int, b: Int): Int = \n",
    "        if (b == 0) a else gcd(b, a % b) \n",
    "}"
   ]
  },
  {
   "cell_type": "code",
   "execution_count": 4,
   "metadata": {
    "collapsed": false
   },
   "outputs": [
    {
     "data": {
      "text/plain": [
       "\u001b[36mx\u001b[0m: cmd3.INSTANCE.$ref$cmd0.Rational = 1/2\n",
       "\u001b[36my\u001b[0m: cmd3.INSTANCE.$ref$cmd0.Rational = 2/3\n",
       "\u001b[36mres3_2\u001b[0m: cmd3.INSTANCE.$ref$cmd0.Rational = 7/6\n",
       "\u001b[36mres3_3\u001b[0m: cmd3.INSTANCE.$ref$cmd0.Rational = 7/6"
      ]
     },
     "metadata": {},
     "output_type": "display_data"
    }
   ],
   "source": [
    "val x = new Rational(1,2)\n",
    "val y = new Rational(2,3)\n",
    "x + y \n",
    "x.+(y )"
   ]
  },
  {
   "cell_type": "code",
   "execution_count": 5,
   "metadata": {
    "collapsed": false
   },
   "outputs": [
    {
     "data": {
      "text/plain": [
       "defined \u001b[32mclass \u001b[36mRational\u001b[0m"
      ]
     },
     "metadata": {},
     "output_type": "display_data"
    }
   ],
   "source": [
    "class Rational(n: Int, d: Int) {\n",
    "    require(d != 0)\n",
    "    private val g = gcd(n.abs, d.abs) \n",
    "    val numer = n / g \n",
    "    val denom = d / g\n",
    "    def this(n: Int) = this(n, 1)\n",
    "    def + (that: Rational): Rational = new Rational( numer * that.denom + that.numer * denom, denom * that.denom )\n",
    "    def + (i: Int): Rational = new Rational(numer + i * denom, denom)\n",
    "    def - (that: Rational): Rational = new Rational( numer * that.denom - that.numer * denom, denom * that.denom )\n",
    "    def - (i: Int): Rational = new Rational(numer - i * denom, denom)\n",
    "    def * (that: Rational): Rational = new Rational(numer * that.numer, denom * that.denom)\n",
    "    def * (i: Int): Rational = new Rational(numer * i, denom)\n",
    "    def / (that: Rational): Rational = new Rational(numer * that.denom, denom * that.numer)\n",
    "    def / (i: Int): Rational = new Rational(numer, denom * i)\n",
    "    override def toString = numer +\"/\"+ denom\n",
    "    private def gcd(a: Int, b: Int): Int = if (b == 0) a else gcd(b, a % b) \n",
    "}"
   ]
  },
  {
   "cell_type": "code",
   "execution_count": 6,
   "metadata": {
    "collapsed": false
   },
   "outputs": [
    {
     "data": {
      "text/plain": [
       "\u001b[36mx\u001b[0m: cmd5.INSTANCE.$ref$cmd4.Rational = 2/3\n",
       "\u001b[36mres5_1\u001b[0m: cmd5.INSTANCE.$ref$cmd4.Rational = 4/9\n",
       "\u001b[36mres5_2\u001b[0m: cmd5.INSTANCE.$ref$cmd4.Rational = 4/3"
      ]
     },
     "metadata": {},
     "output_type": "display_data"
    }
   ],
   "source": [
    "val x = new Rational(2, 3)\n",
    "x * x\n",
    "x * 2"
   ]
  },
  {
   "cell_type": "code",
   "execution_count": 9,
   "metadata": {
    "collapsed": false
   },
   "outputs": [
    {
     "data": {
      "text/plain": [
       "\u001b[36mr\u001b[0m: cmd6.INSTANCE.$ref$cmd4.Rational = 2/3\n",
       "\u001b[36mres6_1\u001b[0m: cmd6.INSTANCE.$ref$cmd4.Rational = 4/3"
      ]
     },
     "metadata": {},
     "output_type": "display_data"
    }
   ],
   "source": [
    "val r = new Rational(2, 3)\n",
    "r * 2"
   ]
  },
  {
   "cell_type": "code",
   "execution_count": 10,
   "metadata": {
    "collapsed": false
   },
   "outputs": [
    {
     "ename": "",
     "evalue": "",
     "output_type": "error",
     "traceback": [
      "Compilation Failed",
      "\u001b[31mMain.scala:70: overloaded method value * with alternatives:",
      "  (x: Double)Double <and>",
      "  (x: Float)Float <and>",
      "  (x: Long)Long <and>",
      "  (x: Int)Int <and>",
      "  (x: Char)Int <and>",
      "  (x: Short)Int <and>",
      "  (x: Byte)Int",
      " cannot be applied to (cmd6.INSTANCE.$ref$cmd4.Rational)",
      "2 * r",
      "  ^\u001b[0m"
     ]
    }
   ],
   "source": [
    "2 * r"
   ]
  },
  {
   "cell_type": "code",
   "execution_count": null,
   "metadata": {
    "collapsed": true
   },
   "outputs": [],
   "source": []
  },
  {
   "cell_type": "code",
   "execution_count": null,
   "metadata": {
    "collapsed": true
   },
   "outputs": [],
   "source": []
  },
  {
   "cell_type": "code",
   "execution_count": null,
   "metadata": {
    "collapsed": true
   },
   "outputs": [],
   "source": []
  },
  {
   "cell_type": "code",
   "execution_count": null,
   "metadata": {
    "collapsed": true
   },
   "outputs": [],
   "source": []
  },
  {
   "cell_type": "code",
   "execution_count": null,
   "metadata": {
    "collapsed": true
   },
   "outputs": [],
   "source": []
  },
  {
   "cell_type": "code",
   "execution_count": null,
   "metadata": {
    "collapsed": true
   },
   "outputs": [],
   "source": []
  },
  {
   "cell_type": "code",
   "execution_count": null,
   "metadata": {
    "collapsed": true
   },
   "outputs": [],
   "source": []
  },
  {
   "cell_type": "code",
   "execution_count": null,
   "metadata": {
    "collapsed": true
   },
   "outputs": [],
   "source": []
  }
 ],
 "metadata": {
  "kernelspec": {
   "display_name": "Scala 2.10",
   "language": "scala210",
   "name": "scala210"
  },
  "language_info": {
   "codemirror_mode": "text/x-scala",
   "file_extension": "scala",
   "mimetype": "text/x-scala",
   "name": "scala210",
   "pygments_lexer": "scala",
   "version": "2.10.5"
  }
 },
 "nbformat": 4,
 "nbformat_minor": 0
}
