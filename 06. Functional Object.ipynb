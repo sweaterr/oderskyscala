{
 "cells": [
  {
   "cell_type": "code",
   "execution_count": 1,
   "metadata": {
    "collapsed": false
   },
   "outputs": [
    {
     "data": {
      "text/plain": [
       "defined \u001b[32mclass \u001b[36mRational\u001b[0m"
      ]
     },
     "metadata": {},
     "output_type": "display_data"
    }
   ],
   "source": [
    "class Rational(n: Int, d: Int) { // This won't compile \n",
    "    require(d != 0) \n",
    "    val numer: Int = n \n",
    "    val denom: Int = d\n",
    "    override def toString = numer +\"/\"+ denom\n",
    "    def add(that: Rational): Rational = \n",
    "        new Rational(numer * that.denom + that.numer * denom, denom * that.denom) \n",
    "}"
   ]
  },
  {
   "cell_type": "code",
   "execution_count": 2,
   "metadata": {
    "collapsed": false
   },
   "outputs": [
    {
     "data": {
      "text/plain": [
       "\u001b[36moneHalf\u001b[0m: cmd1.INSTANCE.$ref$cmd0.Rational = 1/2\n",
       "\u001b[36mtwoThirds\u001b[0m: cmd1.INSTANCE.$ref$cmd0.Rational = 2/3\n",
       "\u001b[36mres1_2\u001b[0m: cmd1.INSTANCE.$ref$cmd0.Rational = 7/6\n",
       "\u001b[36mr\u001b[0m: cmd1.INSTANCE.$ref$cmd0.Rational = 1/2\n",
       "\u001b[36mres1_4\u001b[0m: Int = \u001b[32m1\u001b[0m\n",
       "\u001b[36mres1_5\u001b[0m: Int = \u001b[32m2\u001b[0m"
      ]
     },
     "metadata": {},
     "output_type": "display_data"
    }
   ],
   "source": [
    "val oneHalf = new Rational(1, 2)\n",
    "val twoThirds = new Rational(2, 3)\n",
    "oneHalf add twoThirds\n",
    "\n",
    "val r = new Rational(1, 2)\n",
    "\n",
    "r.numer\n",
    "\n",
    "r.denom\n"
   ]
  },
  {
   "cell_type": "code",
   "execution_count": null,
   "metadata": {
    "collapsed": true
   },
   "outputs": [],
   "source": []
  }
 ],
 "metadata": {
  "kernelspec": {
   "display_name": "Scala 2.10",
   "language": "scala210",
   "name": "scala210"
  },
  "language_info": {
   "codemirror_mode": "text/x-scala",
   "file_extension": "scala",
   "mimetype": "text/x-scala",
   "name": "scala210",
   "pygments_lexer": "scala",
   "version": "2.10.5"
  }
 },
 "nbformat": 4,
 "nbformat_minor": 0
}
